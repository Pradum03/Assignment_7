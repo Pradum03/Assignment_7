{
 "cells": [
  {
   "cell_type": "markdown",
   "id": "0f4fa611-f319-4519-9aa6-c5d6563bebcf",
   "metadata": {},
   "source": [
    "ASSIGNMENT: 7"
   ]
  },
  {
   "cell_type": "markdown",
   "id": "d0d1621c-5c8a-4c3f-a64d-8ec3c66b964e",
   "metadata": {},
   "source": [
    "1."
   ]
  },
  {
   "cell_type": "code",
   "execution_count": 37,
   "id": "624a53c7-ebd9-478c-99d8-ddc15208f37e",
   "metadata": {},
   "outputs": [
    {
     "name": "stdout",
     "output_type": "stream",
     "text": [
      "Flat List: [1, 2, 3, 4, 44, 55, 66, True, False, (34, 56, 78, 89, 34), {1, 2, 3}, 34, [55, 67, 78, 89], (45, 22, 61, 34), 56, 'data science', 'Machine Learning']\n",
      "0\n"
     ]
    }
   ],
   "source": [
    "def product_of_list(lst):\n",
    "    flat_list = []\n",
    "    for elem in lst:\n",
    "        if isinstance(elem, list):\n",
    "            flat_list.extend(elem)\n",
    "        elif isinstance(elem, dict):\n",
    "            flat_list.extend(elem.values())\n",
    "        else:\n",
    "            flat_list.append(elem)\n",
    "    print(\"Flat List:\", flat_list)\n",
    "    product = 1\n",
    "    for num in flat_list:\n",
    "        if isinstance(num, (int, float)):\n",
    "            product *= num\n",
    "    return product\n",
    "list1 = [1,2,3,4, [44,55,66, True], False, (34,56,78,89,34), {1,2,3,3,2,1}, {1:34, \"key2\": [55, 67, 78, 89], 4: (45, 22, 61, 34)}, [56, 'data science'], 'Machine Learning']\n",
    "print(product_of_list(list1))\n"
   ]
  },
  {
   "cell_type": "markdown",
   "id": "c173e798-6eba-4db4-8db0-99a1f860afdd",
   "metadata": {},
   "source": [
    "\"GVING OUTPUT = 0 as it is treating boolean False as 0"
   ]
  },
  {
   "cell_type": "markdown",
   "id": "8e3a13b5-cd6d-4b90-8f89-ac01951baac8",
   "metadata": {},
   "source": [
    "2."
   ]
  },
  {
   "cell_type": "code",
   "execution_count": 43,
   "id": "8f33ebc4-ead7-41d1-a48d-1012681543cc",
   "metadata": {},
   "outputs": [
    {
     "name": "stdout",
     "output_type": "stream",
     "text": [
      "r$dzmg$gl$yvxlnv$z$wzgz$hxrvmgrhg.\n"
     ]
    }
   ],
   "source": [
    "message = \"I want to become a Data Scientist.\"\n",
    "encrypted = \"\"\n",
    "\n",
    "for char in message.lower():\n",
    "    if char.isalpha():\n",
    "        encrypted += chr(ord('a') + ord('z') - ord(char))\n",
    "    elif char == ' ':\n",
    "        encrypted += '$'\n",
    "    else:\n",
    "        encrypted += char\n",
    "\n",
    "print(encrypted)\n"
   ]
  },
  {
   "cell_type": "code",
   "execution_count": null,
   "id": "b78c2b25-3f1f-4033-9c26-41fa6e093c2e",
   "metadata": {},
   "outputs": [],
   "source": []
  }
 ],
 "metadata": {
  "kernelspec": {
   "display_name": "Python 3 (ipykernel)",
   "language": "python",
   "name": "python3"
  },
  "language_info": {
   "codemirror_mode": {
    "name": "ipython",
    "version": 3
   },
   "file_extension": ".py",
   "mimetype": "text/x-python",
   "name": "python",
   "nbconvert_exporter": "python",
   "pygments_lexer": "ipython3",
   "version": "3.10.8"
  }
 },
 "nbformat": 4,
 "nbformat_minor": 5
}
